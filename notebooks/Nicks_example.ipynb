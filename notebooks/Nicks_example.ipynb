{
 "cells": [
  {
   "cell_type": "code",
   "execution_count": null,
   "id": "b807753c-3a46-4fc3-9ca3-11901d8982cf",
   "metadata": {},
   "outputs": [],
   "source": [
    "import subprocess\n",
    "import sys\n",
    "\n",
    "def install(package):\n",
    "    subprocess.check_call([sys.executable, \"-m\", \"pip\", \"install\", package])\n",
    "\n",
    "install(\"kafka-python\")"
   ]
  },
  {
   "cell_type": "code",
   "execution_count": null,
   "id": "a23b6008-b7b6-4161-82ed-7c6a39207ac6",
   "metadata": {},
   "outputs": [],
   "source": [
    "from kafka import KafkaConsumer\n",
    "consumer = KafkaConsumer(bootstrap_servers=['kafka:9092'])"
   ]
  },
  {
   "cell_type": "code",
   "execution_count": null,
   "id": "1bf0ba37-8da8-458f-9e45-ec6542dedbeb",
   "metadata": {},
   "outputs": [],
   "source": [
    "consumer.topics()"
   ]
  },
  {
   "cell_type": "code",
   "execution_count": null,
   "id": "8a3ed179-e7cd-4d85-bbf7-dd41a5cd73de",
   "metadata": {},
   "outputs": [],
   "source": [
    "from kafka.admin import KafkaAdminClient, NewTopic\n",
    "\n",
    "admin_client = KafkaAdminClient(\n",
    "    bootstrap_servers=\"kafka:9092\", \n",
    "    client_id='test'\n",
    ")\n",
    "\n",
    "topic_list = []\n",
    "topic_list.append(NewTopic(name=\"new_example_topic\", num_partitions=1, replication_factor=1))\n",
    "admin_client.create_topics(new_topics=topic_list, validate_only=False)"
   ]
  },
  {
   "cell_type": "code",
   "execution_count": null,
   "id": "79b236f9-c79e-4ba9-b894-7f6fe5f4d050",
   "metadata": {},
   "outputs": [],
   "source": [
    "consumer.topics()"
   ]
  }
 ],
 "metadata": {
  "kernelspec": {
   "display_name": "Python 3 (ipykernel)",
   "language": "python",
   "name": "python3"
  },
  "language_info": {
   "codemirror_mode": {
    "name": "ipython",
    "version": 3
   },
   "file_extension": ".py",
   "mimetype": "text/x-python",
   "name": "python",
   "nbconvert_exporter": "python",
   "pygments_lexer": "ipython3",
   "version": "3.9.2"
  }
 },
 "nbformat": 4,
 "nbformat_minor": 5
}
